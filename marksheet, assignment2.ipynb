{
 "cells": [
  {
   "cell_type": "code",
   "execution_count": 14,
   "metadata": {},
   "outputs": [
    {
     "name": "stdout",
     "output_type": "stream",
     "text": [
      "type english marks:  45\n",
      "type maths marks: 67\n",
      "type physics marks: 65\n",
      "type chemistry marks: 70\n",
      "type biology marks: 80\n",
      "Obtained marks are 327\n",
      "Total marks are 500\n",
      "Percentage is 65.4\n",
      "Grade is B\n"
     ]
    }
   ],
   "source": [
    "sub1=int(input(\"type english marks:  \"))\n",
    "sub2=int(input(\"type maths marks: \"))\n",
    "sub3=int(input(\"type physics marks: \"))\n",
    "sub4=int(input(\"type chemistry marks: \"))\n",
    "sub5=int(input(\"type biology marks: \"))\n",
    "\n",
    "add=sub1+sub2+sub3+sub4+sub5\n",
    "per=(add/500*100)\n",
    "print(\"Obtained marks are {0}\".format(add))\n",
    "print(\"Total marks are 500\")\n",
    "print(\"Percentage is {0}\".format(per))\n",
    "if per >=80 and per <=100:\n",
    "    print(\"Grade is A+\")\n",
    "elif per >= 70 and per < 80 :\n",
    "        print(\"Grade is A\")\n",
    "elif per >= 60 and per < 70 :\n",
    "        print(\"Grade is B\")\n",
    "elif per >= 50 and per < 60 :\n",
    "                print(\"Grade is C\")\n",
    "elif per >=40 and per < 50 :\n",
    "                print(\"Grade is D\")\n",
    "else :\n",
    "    print(\"Fail\")"
   ]
  },
  {
   "cell_type": "code",
   "execution_count": null,
   "metadata": {},
   "outputs": [],
   "source": []
  },
  {
   "cell_type": "code",
   "execution_count": null,
   "metadata": {},
   "outputs": [],
   "source": []
  }
 ],
 "metadata": {
  "kernelspec": {
   "display_name": "Python 3",
   "language": "python",
   "name": "python3"
  },
  "language_info": {
   "codemirror_mode": {
    "name": "ipython",
    "version": 3
   },
   "file_extension": ".py",
   "mimetype": "text/x-python",
   "name": "python",
   "nbconvert_exporter": "python",
   "pygments_lexer": "ipython3",
   "version": "3.7.4"
  }
 },
 "nbformat": 4,
 "nbformat_minor": 2
}
