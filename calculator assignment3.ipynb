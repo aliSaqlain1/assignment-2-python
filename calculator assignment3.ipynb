{
 "cells": [
  {
   "cell_type": "code",
   "execution_count": 2,
   "metadata": {},
   "outputs": [
    {
     "name": "stdout",
     "output_type": "stream",
     "text": [
      "Enter a number: 2\n",
      "Enter an operator: **\n",
      "Enter a number: 5\n",
      "32\n"
     ]
    }
   ],
   "source": [
    "val1=int(input(\"Enter a number: \"))\n",
    "operator=input(\"Enter an operator: \")\n",
    "val2=int(input(\"Enter a number: \"))\n",
    "\n",
    "if operator == \"+\":\n",
    "    print(val1+val2)\n",
    "elif operator == \"-\":\n",
    "    print(val1-val2)\n",
    "elif operator == \"*\":\n",
    "    print(val1*val2)\n",
    "elif operator == \"/\":\n",
    "    print(val1/val2)\n",
    "elif operator == \"**\":\n",
    "    print(val1**val2)\n",
    "else:\n",
    "    print(\"Wrong operator\")"
   ]
  },
  {
   "cell_type": "code",
   "execution_count": null,
   "metadata": {},
   "outputs": [],
   "source": []
  }
 ],
 "metadata": {
  "kernelspec": {
   "display_name": "Python 3",
   "language": "python",
   "name": "python3"
  },
  "language_info": {
   "codemirror_mode": {
    "name": "ipython",
    "version": 3
   },
   "file_extension": ".py",
   "mimetype": "text/x-python",
   "name": "python",
   "nbconvert_exporter": "python",
   "pygments_lexer": "ipython3",
   "version": "3.7.4"
  }
 },
 "nbformat": 4,
 "nbformat_minor": 2
}
