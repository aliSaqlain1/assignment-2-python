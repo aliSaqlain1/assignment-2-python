{
 "cells": [
  {
   "cell_type": "code",
   "execution_count": 3,
   "metadata": {},
   "outputs": [
    {
     "name": "stdout",
     "output_type": "stream",
     "text": [
      "Input a number to compute the factiorial : 12\n",
      "the Factorial is:  479001600\n"
     ]
    }
   ],
   "source": [
    "#Assignment 5\n",
    "#Q1\n",
    "\n",
    "def factorial(n):\n",
    "    if n == 0:\n",
    "        return 1\n",
    "    else:\n",
    "        return n * factorial(n-1)\n",
    "n=int(input(\"Input a number to compute the factiorial : \"))\n",
    "print(\"the Factorial is: \", factorial(n))\n"
   ]
  },
  {
   "cell_type": "code",
   "execution_count": 5,
   "metadata": {},
   "outputs": [
    {
     "name": "stdout",
     "output_type": "stream",
     "text": [
      "Original String :  Barking dogs Seldom Bites.\n",
      "No. of Upper case characters :  3\n",
      "No. of Lower case Characters :  19\n"
     ]
    }
   ],
   "source": [
    "#Assignment 5\n",
    "#Q2\n",
    "\n",
    "def string_test(s):\n",
    "    d={\"UPPER_CASE\":0, \"LOWER_CASE\":0}\n",
    "    for c in s:\n",
    "        if c.isupper():\n",
    "           d[\"UPPER_CASE\"]+=1\n",
    "        elif c.islower():\n",
    "           d[\"LOWER_CASE\"]+=1\n",
    "        else:\n",
    "           pass\n",
    "    print (\"Original String : \", s)\n",
    "    print (\"No. of Upper case characters : \", d[\"UPPER_CASE\"])\n",
    "    print (\"No. of Lower case Characters : \", d[\"LOWER_CASE\"])\n",
    "\n",
    "string_test('Barking dogs Seldom Bites.')"
   ]
  },
  {
   "cell_type": "code",
   "execution_count": 6,
   "metadata": {},
   "outputs": [
    {
     "name": "stdout",
     "output_type": "stream",
     "text": [
      "10 4 66 "
     ]
    }
   ],
   "source": [
    "#Assignment 5\n",
    "#Q3\n",
    "\n",
    "list1 = [10, 21, 4, 45, 66, 93] \n",
    "num = 0\n",
    "  \n",
    "        \n",
    "while(num < len(list1)):  \n",
    "    if num % 2 == 0: \n",
    "        print(list1[num], end = \" \") \n",
    "      \n",
    "  \n",
    "    num += 1"
   ]
  },
  {
   "cell_type": "code",
   "execution_count": null,
   "metadata": {},
   "outputs": [],
   "source": []
  },
  {
   "cell_type": "code",
   "execution_count": 2,
   "metadata": {},
   "outputs": [
    {
     "name": "stdout",
     "output_type": "stream",
     "text": [
      "True\n",
      "False\n"
     ]
    }
   ],
   "source": [
    " #Assignment 5\n",
    "#Q4\n",
    "\n",
    "def isPalindrome(string):\n",
    "    left_pos = 0\n",
    "    right_pos = len(string) - 1\n",
    "\n",
    "    while right_pos >= left_pos:\n",
    "        if not string[left_pos] == string[right_pos]:\n",
    "            return False\n",
    "        left_pos += 1\n",
    "        right_pos -= 1\n",
    "    return True\n",
    "print(isPalindrome('level'))\n",
    "print(isPalindrome('adam'))"
   ]
  },
  {
   "cell_type": "code",
   "execution_count": 4,
   "metadata": {},
   "outputs": [
    {
     "name": "stdout",
     "output_type": "stream",
     "text": [
      "False\n",
      "True\n"
     ]
    }
   ],
   "source": [
    "#Assignment 5\n",
    "#Q5\n",
    "def test_prime(n):\n",
    "    if (n==1):\n",
    "        return False\n",
    "    elif (n==2):\n",
    "        return True;\n",
    "    else:\n",
    "        for x in range(2,n):\n",
    "            if(n % x==0):\n",
    "                return False\n",
    "        return True             \n",
    "print(test_prime(9))\n",
    "print(test_prime(3))"
   ]
  },
  {
   "cell_type": "code",
   "execution_count": 8,
   "metadata": {},
   "outputs": [
    {
     "name": "stdout",
     "output_type": "stream",
     "text": [
      "Item name: banana\n",
      "Amount purchased: 120\n",
      "Price per item: 12\n",
      "Press c to continue or q to quitc\n",
      "Item name: apple\n",
      "Amount purchased: 12\n",
      "Price per item: 10\n",
      "Press c to continue or q to quitq\n",
      "[{'name': 'apple', 'quantity': 12, 'cost': 10.0}, {'name': 'apple', 'quantity': 12, 'cost': 10.0}]\n"
     ]
    }
   ],
   "source": [
    "#Assignment 5\n",
    "#Q6\n",
    "grocery_item = dict()\n",
    "current_item = dict()\n",
    "grocery_history = []\n",
    "choice = 0\n",
    "stop = True\n",
    "while stop == True:\n",
    "    current_item['name'] = str(input('Item name: '))\n",
    "    current_item['quantity'] = int(input('Amount purchased: '))\n",
    "    current_item['cost'] = float(input('Price per item: '))\n",
    "    grocery_history.append(current_item)\n",
    "    choice = str(input('Press c to continue or q to quit'))\n",
    "    if choice == 'c':\n",
    "        stop = True\n",
    "    else:\n",
    "        stop = False\n",
    "print(grocery_history)"
   ]
  },
  {
   "cell_type": "code",
   "execution_count": null,
   "metadata": {},
   "outputs": [],
   "source": []
  }
 ],
 "metadata": {
  "kernelspec": {
   "display_name": "Python 3",
   "language": "python",
   "name": "python3"
  },
  "language_info": {
   "codemirror_mode": {
    "name": "ipython",
    "version": 3
   },
   "file_extension": ".py",
   "mimetype": "text/x-python",
   "name": "python",
   "nbconvert_exporter": "python",
   "pygments_lexer": "ipython3",
   "version": "3.7.4"
  }
 },
 "nbformat": 4,
 "nbformat_minor": 2
}
