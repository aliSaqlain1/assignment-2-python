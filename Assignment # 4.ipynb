{
 "cells": [
  {
   "cell_type": "code",
   "execution_count": 8,
   "metadata": {},
   "outputs": [
    {
     "name": "stdout",
     "output_type": "stream",
     "text": [
      "Ali\n",
      "Qazi\n",
      "23\n",
      "Hyderabad\n",
      "{'First_Name': 'Ali', 'Last_Name': 'Qazi', 'Age': 23, 'City': 'Hyderabad', 'Qualification': 'intermediate'}\n",
      "{'First_Name': 'Ali', 'Last_Name': 'Qazi', 'Age': 23, 'City': 'Hyderabad', 'Qualification': 'BS-IT'}\n",
      "{'First_Name': 'Ali', 'Last_Name': 'Qazi', 'Age': 23, 'City': 'Hyderabad'}\n"
     ]
    }
   ],
   "source": [
    "person = {\"First_Name\":\"Ali\",\n",
    "          \"Last_Name\":\"Qazi\",\n",
    "          \"Age\":23,\n",
    "          \"City\":\"Hyderabad\"\n",
    "}\n",
    "print(person[\"First_Name\"])\n",
    "print(person[\"Last_Name\"])\n",
    "print(person[\"Age\"])\n",
    "print(person[\"City\"])\n",
    "person[\"Qualification\"]=\"intermediate\"\n",
    "print(person)\n",
    "person[\"Qualification\"]=\"BS-IT\"\n",
    "print(person)\n",
    "del person[\"Qualification\"]\n",
    "print(person)"
   ]
  },
  {
   "cell_type": "code",
   "execution_count": 22,
   "metadata": {},
   "outputs": [
    {
     "name": "stdout",
     "output_type": "stream",
     "text": [
      "{'Country': 'Pakistan', 'Population': 1700000, 'Fact': 'Second largest city of sindh.'}\n",
      "{'Country': 'England', 'Population': 8900000, 'Fact': 'Most popular university in the world'}\n",
      "{'Country': 'Turkey', 'population': 15700000, 'Fact': 'The only city in the world which is both in Europe and Asia geographicaly'}\n"
     ]
    }
   ],
   "source": [
    "cities={ \"Hyderabad\": {\"Country\":\"Pakistan\",\n",
    "                      \"Population\":1700000,\n",
    "                      \"Fact\":\"Second largest city of sindh.\"\n",
    "        },\n",
    "         \"London\" : {\"Country\":\"England\",\n",
    "                  \"Population\":8900000,\n",
    "                  \"Fact\":\"Most popular university in the world\"\n",
    "            \n",
    "        },\n",
    "         \"Istanbul\": {\"Country\":\"Turkey\",\n",
    "                    \"population\":15700000,\n",
    "                    \"Fact\":\"The only city in the world which is both in Europe and Asia geographicaly\"\n",
    "            \n",
    "        }\n",
    "    \n",
    "}\n",
    "print(cities[\"Hyderabad\"])\n",
    "print(cities[\"London\"])\n",
    "print(cities[\"Istanbul\"])"
   ]
  },
  {
   "cell_type": "code",
   "execution_count": null,
   "metadata": {},
   "outputs": [
    {
     "name": "stdout",
     "output_type": "stream",
     "text": [
      "Enter your age or '0' to stop  :2\n",
      "Your ticket is free !\n",
      "Enter your age or '0' to stop  :5\n",
      "Your ticket is $10 !\n",
      "Enter your age or '0' to stop  :12\n",
      "Your ticket is $10 !\n",
      "Enter your age or '0' to stop  :0\n",
      "Enter your age or '0' to stop  :0\n"
     ]
    }
   ],
   "source": [
    "condition = True\n",
    "while condition:\n",
    "    age = input(\"Enter your age or '0' to stop  :\")\n",
    "    \n",
    "    if age.lower() != 0:\n",
    "        condition = False\n",
    "    else:\n",
    "        int_age = int(age)\n",
    "        if int_age  > 0 and int_age < 3:\n",
    "            print(\"Your ticket is free !\")\n",
    "        elif int_age >=3 and int_age <=12:\n",
    "            print(\"Your ticket is $10 !\")\n",
    "        elif int_age > 12:\n",
    "            print(\"Your ticket is $15 !\")"
   ]
  },
  {
   "cell_type": "code",
   "execution_count": 2,
   "metadata": {},
   "outputs": [
    {
     "name": "stdout",
     "output_type": "stream",
     "text": [
      "One of my favorite books is 'who is who and what is what'.\n",
      "One of my favorite books is 'baang e dara '.\n"
     ]
    }
   ],
   "source": [
    "def favorite_book(title):\n",
    "    print(f\"One of my favorite books is '{title}'.\")\n",
    "    \n",
    "favorite_book(\"who is who and what is what\")\n",
    "favorite_book(\"baang e dara \")"
   ]
  },
  {
   "cell_type": "code",
   "execution_count": 4,
   "metadata": {},
   "outputs": [
    {
     "name": "stdout",
     "output_type": "stream",
     "text": [
      "\n",
      "\tYou have 3 chances to guess the hidden number (from 1 to 30): 4\n",
      "Your guess is less than the hidden number !\n",
      "\n",
      "\tYou have 2 chances to guess the hidden number (from 1 to 30): 7\n",
      "Your guess is less than the hidden number !\n",
      "\n",
      "\tYou have 1 chances to guess the hidden number (from 1 to 30): 5\n",
      "Your guess is less than the hidden number !\n",
      "Sorry You Lose ! :(  Hidden Number was 19\n"
     ]
    }
   ],
   "source": [
    "import random as rd\n",
    "i = 3\n",
    "while i > 0:\n",
    "    correct_num = rd.randint(1,30)\n",
    "    user_num = int(input(f\"\\n\\tYou have {i} chances to guess the hidden number (from 1 to 30): \"))\n",
    "    \n",
    "    if user_num == correct_num:\n",
    "        print(\"***Bang on ! right Guess, You Won*** :\")\n",
    "        break\n",
    "    elif user_num > correct_num:\n",
    "        print(\"Your guess is greater than the hidden number !\")\n",
    "        i -= 1\n",
    "    elif user_num < correct_num:\n",
    "        print(\"Your guess is less than the hidden number !\")\n",
    "        i-=1\n",
    "    elif user_num < 1 or user_num > 30:\n",
    "        print(\"Please enter number in range 1 to 30 !\")\n",
    "        \n",
    "if i == 0:\n",
    "    print(f\"Sorry You Lose ! :(  Hidden Number was {correct_num}\")"
   ]
  },
  {
   "cell_type": "code",
   "execution_count": null,
   "metadata": {},
   "outputs": [],
   "source": []
  }
 ],
 "metadata": {
  "kernelspec": {
   "display_name": "Python 3",
   "language": "python",
   "name": "python3"
  },
  "language_info": {
   "codemirror_mode": {
    "name": "ipython",
    "version": 3
   },
   "file_extension": ".py",
   "mimetype": "text/x-python",
   "name": "python",
   "nbconvert_exporter": "python",
   "pygments_lexer": "ipython3",
   "version": "3.7.4"
  }
 },
 "nbformat": 4,
 "nbformat_minor": 2
}
