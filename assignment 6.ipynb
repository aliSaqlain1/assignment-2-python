{
 "cells": [
  {
   "cell_type": "code",
   "execution_count": 1,
   "metadata": {},
   "outputs": [
    {
     "ename": "SyntaxError",
     "evalue": "invalid syntax (<ipython-input-1-eeb60521da0a>, line 2)",
     "output_type": "error",
     "traceback": [
      "\u001b[1;36m  File \u001b[1;32m\"<ipython-input-1-eeb60521da0a>\"\u001b[1;36m, line \u001b[1;32m2\u001b[0m\n\u001b[1;33m    Object-oriented programming is one of the most widely used paradigms today.\u001b[0m\n\u001b[1;37m                              ^\u001b[0m\n\u001b[1;31mSyntaxError\u001b[0m\u001b[1;31m:\u001b[0m invalid syntax\n"
     ]
    }
   ],
   "source": [
    "#Q1\n",
    "Object-oriented programming is one of the most widely used paradigms today.\n",
    "It is based on the use of objects — entities that contain data members called attributes and bounded functions\n",
    "(routines, procedures) called methods.\n",
    "\n",
    "\n",
    "Objects are instances of classes. In other words, classes mostly define the structure of objects\n",
    "and serve as templates for creating them. Classes have methods definitions but can also contain data\n",
    "common for all their instances."
   ]
  },
  {
   "cell_type": "code",
   "execution_count": 2,
   "metadata": {},
   "outputs": [
    {
     "ename": "SyntaxError",
     "evalue": "invalid syntax (<ipython-input-2-8e0f66430743>, line 2)",
     "output_type": "error",
     "traceback": [
      "\u001b[1;36m  File \u001b[1;32m\"<ipython-input-2-8e0f66430743>\"\u001b[1;36m, line \u001b[1;32m2\u001b[0m\n\u001b[1;33m    1. Modularity for easier troubleshooting\u001b[0m\n\u001b[1;37m                ^\u001b[0m\n\u001b[1;31mSyntaxError\u001b[0m\u001b[1;31m:\u001b[0m invalid syntax\n"
     ]
    }
   ],
   "source": [
    "#Q2\n",
    "1. Modularity for easier troubleshooting\n",
    "2. Reuse of code through inheritance\n",
    "3. Flexibility through polymorphism\n",
    "4. Effective problem solving"
   ]
  },
  {
   "cell_type": "code",
   "execution_count": 3,
   "metadata": {},
   "outputs": [
    {
     "ename": "SyntaxError",
     "evalue": "invalid syntax (<ipython-input-3-ee622ac509fe>, line 4)",
     "output_type": "error",
     "traceback": [
      "\u001b[1;36m  File \u001b[1;32m\"<ipython-input-3-ee622ac509fe>\"\u001b[1;36m, line \u001b[1;32m4\u001b[0m\n\u001b[1;33m    Method is called by its name, but it is associated to an object (dependent).\u001b[0m\n\u001b[1;37m                      ^\u001b[0m\n\u001b[1;31mSyntaxError\u001b[0m\u001b[1;31m:\u001b[0m invalid syntax\n"
     ]
    }
   ],
   "source": [
    "#Q3\n",
    "METHODS\n",
    "\n",
    "Method is called by its name, but it is associated to an object (dependent).\n",
    "A method is implicitly passed the object on which it is invoked.\n",
    "It may or may not return any data.\n",
    "A method can operate on the data (instance variables) that is contained by the corresponding class\n",
    "\n",
    "FUNCTION\n",
    "\n",
    "Simply, function and method both look similar as they perform in almost similar way,\n",
    "but the key difference is the concept of ‘Class and its Object.\n",
    "Functions can be called only by its name, as it is defined independently.\n",
    "But methods can’t be called by its name only,\n",
    "we need to invoke the class by a reference of that class in which it is defined,\n",
    "i.e. method is defined within a class and hence they are dependent on that class."
   ]
  },
  {
   "cell_type": "code",
   "execution_count": 4,
   "metadata": {},
   "outputs": [
    {
     "ename": "SyntaxError",
     "evalue": "invalid syntax (<ipython-input-4-26ce0f600d98>, line 2)",
     "output_type": "error",
     "traceback": [
      "\u001b[1;36m  File \u001b[1;32m\"<ipython-input-4-26ce0f600d98>\"\u001b[1;36m, line \u001b[1;32m2\u001b[0m\n\u001b[1;33m    1.CLASS\u001b[0m\n\u001b[1;37m          ^\u001b[0m\n\u001b[1;31mSyntaxError\u001b[0m\u001b[1;31m:\u001b[0m invalid syntax\n"
     ]
    }
   ],
   "source": [
    "#Q4\n",
    "1.CLASS\n",
    "\n",
    "A class is a code template for creating objects.\n",
    "Objects have member variables and have behaviour associated with them.\n",
    "In python a class is created by the keyword class .\n",
    "An object is created using the constructor of the class.\n",
    "This object will then be called the instance of the class.\n",
    "\n",
    "2.OBJECT\n",
    "\n",
    "In object-oriented programming (OOP), objects are the things you think about first in designing a program \n",
    "and they are also the units of code that are eventually derived from the process.\n",
    "Each object is an instance of a particular class or subclass with the class's own methods\n",
    "or procedures and data variables\n",
    "\n",
    "3.ATTRIBUTES\n",
    "\n",
    "Everything in Python is an object, and almost everything has attributes and methods.\n",
    "In python, functions too are objects. So they have attributes like other objects.\n",
    "All functions have a built-in attribute __doc__, which returns the doc string defined in the function source code\n",
    "\n",
    "4.BEHAVIOUR\n",
    "\n",
    "Behaviour provides a language suitable for Behaviour Driven Development (BDD),\n",
    "as opposed to post-coding unit testing. It operates as a facade over Python’s unit testing framework"
   ]
  },
  {
   "cell_type": "code",
   "execution_count": null,
   "metadata": {},
   "outputs": [],
   "source": []
  }
 ],
 "metadata": {
  "kernelspec": {
   "display_name": "Python 3",
   "language": "python",
   "name": "python3"
  },
  "language_info": {
   "codemirror_mode": {
    "name": "ipython",
    "version": 3
   },
   "file_extension": ".py",
   "mimetype": "text/x-python",
   "name": "python",
   "nbconvert_exporter": "python",
   "pygments_lexer": "ipython3",
   "version": "3.7.4"
  }
 },
 "nbformat": 4,
 "nbformat_minor": 2
}
